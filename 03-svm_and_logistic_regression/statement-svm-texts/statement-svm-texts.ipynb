{
 "cells": [
  {
   "cell_type": "code",
   "execution_count": 1,
   "metadata": {
    "collapsed": true
   },
   "outputs": [],
   "source": [
    "import pandas as pd\n",
    "import numpy as np\n",
    "from sklearn import datasets\n",
    "from sklearn.feature_extraction.text import TfidfVectorizer\n",
    "from sklearn.model_selection import KFold, GridSearchCV\n",
    "from sklearn.svm import SVC\n",
    "\n",
    "from IPython.core.interactiveshell import InteractiveShell\n",
    "InteractiveShell.ast_node_interactivity = \"all\""
   ]
  },
  {
   "cell_type": "markdown",
   "metadata": {},
   "source": [
    "# 1. Для начала вам потребуется загрузить данные. В этом задании мы воспользуемся одним из датасетов, доступных в scikit-learn'е — 20 newsgroups. Для этого нужно воспользоваться модулем datasets:"
   ]
  },
  {
   "cell_type": "code",
   "execution_count": 2,
   "metadata": {
    "collapsed": false
   },
   "outputs": [
    {
     "name": "stderr",
     "output_type": "stream",
     "text": [
      "Downloading dataset from http://people.csail.mit.edu/jrennie/20Newsgroups/20news-bydate.tar.gz (14 MB)\n"
     ]
    }
   ],
   "source": [
    "newsgroups = datasets.fetch_20newsgroups(\n",
    "                    subset='all', \n",
    "                    categories=['alt.atheism', 'sci.space']\n",
    "             )"
   ]
  },
  {
   "cell_type": "markdown",
   "metadata": {},
   "source": [
    "# 2. После выполнения этого кода массив с текстами будет находиться в поле newsgroups.data, номер класса — в поле newsgroups.target."
   ]
  },
  {
   "cell_type": "code",
   "execution_count": 3,
   "metadata": {
    "collapsed": false
   },
   "outputs": [
    {
     "name": "stdout",
     "output_type": "stream",
     "text": [
      "targets:  [0 0 1 ..., 1 1 0]\n",
      "target_names:  ['alt.atheism', 'sci.space']\n"
     ]
    }
   ],
   "source": [
    "X = newsgroups.data\n",
    "y = newsgroups.target\n",
    "print(\"targets: \", y)\n",
    "print(\"target_names: \", newsgroups.target_names)"
   ]
  },
  {
   "cell_type": "markdown",
   "metadata": {},
   "source": [
    "# 3. Одна из сложностей работы с текстовыми данными состоит в том, что для них нужно построить числовое представление. Одним из способов нахождения такого представления является вычисление TF-IDF. В Scikit-Learn это реализовано в классе sklearn.feature_extraction.text.TfidfVectorizer. Преобразование обучающей выборки нужно делать с помощью функции fit_transform, тестовой — с помощью transform.\n"
   ]
  },
  {
   "cell_type": "code",
   "execution_count": 4,
   "metadata": {
    "collapsed": false
   },
   "outputs": [
    {
     "name": "stdout",
     "output_type": "stream",
     "text": [
      "Extracting features from the training data using vectorizer\n",
      "n_samples: 1786, n_features: 28382\n"
     ]
    }
   ],
   "source": [
    "print(\"Extracting features from the training data using vectorizer\")\n",
    "vectorizer = TfidfVectorizer()\n",
    "X_train = vectorizer.fit_transform(X)\n",
    "print(\"n_samples: %d, n_features: %d\" % X_train.shape)"
   ]
  },
  {
   "cell_type": "markdown",
   "metadata": {},
   "source": [
    "# 4. Реализация SVM-классификатора находится в классе sklearn.svm.SVC. Веса каждого признака у обученного классификатора хранятся в поле coef_. Чтобы понять, какому слову соответствует i-й признак, можно воспользоваться методом get_feature_names() у TfidfVectorizer:"
   ]
  },
  {
   "cell_type": "code",
   "execution_count": 5,
   "metadata": {
    "collapsed": false
   },
   "outputs": [
    {
     "data": {
      "text/plain": [
       "array(['00', '000', '0000', ..., 'zwarte', 'zwork', 'zyklon'], \n",
       "      dtype='<U80')"
      ]
     },
     "execution_count": 5,
     "metadata": {},
     "output_type": "execute_result"
    }
   ],
   "source": [
    "# mapping from integer feature name to original token string\n",
    "feature_names = np.asarray(vectorizer.get_feature_names())\n",
    "feature_names"
   ]
  },
  {
   "cell_type": "markdown",
   "metadata": {},
   "source": [
    "# 5. Подбор параметров удобно делать с помощью класса sklearn.grid_search.GridSearchCV. Первым аргументом в GridSearchCV передается классификатор, для которого будут подбираться значения параметров, вторым — словарь (dict), задающий сетку параметров для перебора. "
   ]
  },
  {
   "cell_type": "code",
   "execution_count": 6,
   "metadata": {
    "collapsed": false,
    "scrolled": false
   },
   "outputs": [
    {
     "data": {
      "text/plain": [
       "GridSearchCV(cv=KFold(n_splits=5, random_state=241, shuffle=True),\n",
       "       error_score='raise',\n",
       "       estimator=SVC(C=1.0, cache_size=200, class_weight=None, coef0=0.0,\n",
       "  decision_function_shape=None, degree=3, gamma='auto', kernel='linear',\n",
       "  max_iter=-1, probability=False, random_state=241, shrinking=True,\n",
       "  tol=0.001, verbose=False),\n",
       "       fit_params={}, iid=True, n_jobs=1,\n",
       "       param_grid={'C': array([  1.00000e-05,   1.00000e-04,   1.00000e-03,   1.00000e-02,\n",
       "         1.00000e-01,   1.00000e+00,   1.00000e+01,   1.00000e+02,\n",
       "         1.00000e+03,   1.00000e+04,   1.00000e+05])},\n",
       "       pre_dispatch='2*n_jobs', refit=True, return_train_score=True,\n",
       "       scoring='accuracy', verbose=0)"
      ]
     },
     "execution_count": 6,
     "metadata": {},
     "output_type": "execute_result"
    }
   ],
   "source": [
    "grid = {'C': np.power(10.0, np.arange(-5, 6))}\n",
    "cv = KFold(n_splits=5, shuffle=True, random_state=241)\n",
    "clf = SVC(kernel='linear', random_state=241)\n",
    "gs = GridSearchCV(clf, grid, scoring='accuracy', cv=cv)\n",
    "gs.fit(X_train, y)"
   ]
  },
  {
   "cell_type": "markdown",
   "metadata": {},
   "source": [
    "# 6. После того, как перебор окончен, можно проанализировать значения качества для всех значений параметров и выбрать наилучший вариант:"
   ]
  },
  {
   "cell_type": "code",
   "execution_count": 10,
   "metadata": {
    "collapsed": false
   },
   "outputs": [
    {
     "data": {
      "text/html": [
       "<div>\n",
       "<table border=\"1\" class=\"dataframe\">\n",
       "  <thead>\n",
       "    <tr style=\"text-align: right;\">\n",
       "      <th></th>\n",
       "      <th>mean_fit_time</th>\n",
       "      <th>mean_score_time</th>\n",
       "      <th>mean_test_score</th>\n",
       "      <th>mean_train_score</th>\n",
       "      <th>param_C</th>\n",
       "      <th>params</th>\n",
       "      <th>rank_test_score</th>\n",
       "      <th>split0_test_score</th>\n",
       "      <th>split0_train_score</th>\n",
       "      <th>split1_test_score</th>\n",
       "      <th>...</th>\n",
       "      <th>split2_test_score</th>\n",
       "      <th>split2_train_score</th>\n",
       "      <th>split3_test_score</th>\n",
       "      <th>split3_train_score</th>\n",
       "      <th>split4_test_score</th>\n",
       "      <th>split4_train_score</th>\n",
       "      <th>std_fit_time</th>\n",
       "      <th>std_score_time</th>\n",
       "      <th>std_test_score</th>\n",
       "      <th>std_train_score</th>\n",
       "    </tr>\n",
       "  </thead>\n",
       "  <tbody>\n",
       "    <tr>\n",
       "      <th>0</th>\n",
       "      <td>2.698479</td>\n",
       "      <td>0.679409</td>\n",
       "      <td>0.552632</td>\n",
       "      <td>0.552632</td>\n",
       "      <td>1e-05</td>\n",
       "      <td>{'C': 1e-05}</td>\n",
       "      <td>8</td>\n",
       "      <td>0.544693</td>\n",
       "      <td>0.554622</td>\n",
       "      <td>0.579832</td>\n",
       "      <td>...</td>\n",
       "      <td>0.571429</td>\n",
       "      <td>0.547936</td>\n",
       "      <td>0.501401</td>\n",
       "      <td>0.565430</td>\n",
       "      <td>0.565826</td>\n",
       "      <td>0.549335</td>\n",
       "      <td>0.112911</td>\n",
       "      <td>0.029222</td>\n",
       "      <td>0.028117</td>\n",
       "      <td>0.007027</td>\n",
       "    </tr>\n",
       "    <tr>\n",
       "      <th>1</th>\n",
       "      <td>2.602821</td>\n",
       "      <td>0.643558</td>\n",
       "      <td>0.552632</td>\n",
       "      <td>0.552632</td>\n",
       "      <td>0.0001</td>\n",
       "      <td>{'C': 0.0001}</td>\n",
       "      <td>8</td>\n",
       "      <td>0.544693</td>\n",
       "      <td>0.554622</td>\n",
       "      <td>0.579832</td>\n",
       "      <td>...</td>\n",
       "      <td>0.571429</td>\n",
       "      <td>0.547936</td>\n",
       "      <td>0.501401</td>\n",
       "      <td>0.565430</td>\n",
       "      <td>0.565826</td>\n",
       "      <td>0.549335</td>\n",
       "      <td>0.026827</td>\n",
       "      <td>0.021861</td>\n",
       "      <td>0.028117</td>\n",
       "      <td>0.007027</td>\n",
       "    </tr>\n",
       "    <tr>\n",
       "      <th>2</th>\n",
       "      <td>2.637450</td>\n",
       "      <td>0.624828</td>\n",
       "      <td>0.552632</td>\n",
       "      <td>0.552632</td>\n",
       "      <td>0.001</td>\n",
       "      <td>{'C': 0.001}</td>\n",
       "      <td>8</td>\n",
       "      <td>0.544693</td>\n",
       "      <td>0.554622</td>\n",
       "      <td>0.579832</td>\n",
       "      <td>...</td>\n",
       "      <td>0.571429</td>\n",
       "      <td>0.547936</td>\n",
       "      <td>0.501401</td>\n",
       "      <td>0.565430</td>\n",
       "      <td>0.565826</td>\n",
       "      <td>0.549335</td>\n",
       "      <td>0.018705</td>\n",
       "      <td>0.007099</td>\n",
       "      <td>0.028117</td>\n",
       "      <td>0.007027</td>\n",
       "    </tr>\n",
       "    <tr>\n",
       "      <th>3</th>\n",
       "      <td>2.547836</td>\n",
       "      <td>0.631150</td>\n",
       "      <td>0.552632</td>\n",
       "      <td>0.552632</td>\n",
       "      <td>0.01</td>\n",
       "      <td>{'C': 0.01}</td>\n",
       "      <td>8</td>\n",
       "      <td>0.544693</td>\n",
       "      <td>0.554622</td>\n",
       "      <td>0.579832</td>\n",
       "      <td>...</td>\n",
       "      <td>0.571429</td>\n",
       "      <td>0.547936</td>\n",
       "      <td>0.501401</td>\n",
       "      <td>0.565430</td>\n",
       "      <td>0.565826</td>\n",
       "      <td>0.549335</td>\n",
       "      <td>0.043327</td>\n",
       "      <td>0.008792</td>\n",
       "      <td>0.028117</td>\n",
       "      <td>0.007027</td>\n",
       "    </tr>\n",
       "    <tr>\n",
       "      <th>4</th>\n",
       "      <td>2.159612</td>\n",
       "      <td>0.548699</td>\n",
       "      <td>0.950168</td>\n",
       "      <td>0.964305</td>\n",
       "      <td>0.1</td>\n",
       "      <td>{'C': 0.1}</td>\n",
       "      <td>7</td>\n",
       "      <td>0.958101</td>\n",
       "      <td>0.960784</td>\n",
       "      <td>0.949580</td>\n",
       "      <td>...</td>\n",
       "      <td>0.957983</td>\n",
       "      <td>0.960812</td>\n",
       "      <td>0.935574</td>\n",
       "      <td>0.961512</td>\n",
       "      <td>0.949580</td>\n",
       "      <td>0.967810</td>\n",
       "      <td>0.036324</td>\n",
       "      <td>0.017626</td>\n",
       "      <td>0.008218</td>\n",
       "      <td>0.004109</td>\n",
       "    </tr>\n",
       "  </tbody>\n",
       "</table>\n",
       "<p>5 rows × 21 columns</p>\n",
       "</div>"
      ],
      "text/plain": [
       "   mean_fit_time  mean_score_time  mean_test_score  mean_train_score param_C  \\\n",
       "0       2.698479         0.679409         0.552632          0.552632   1e-05   \n",
       "1       2.602821         0.643558         0.552632          0.552632  0.0001   \n",
       "2       2.637450         0.624828         0.552632          0.552632   0.001   \n",
       "3       2.547836         0.631150         0.552632          0.552632    0.01   \n",
       "4       2.159612         0.548699         0.950168          0.964305     0.1   \n",
       "\n",
       "          params  rank_test_score  split0_test_score  split0_train_score  \\\n",
       "0   {'C': 1e-05}                8           0.544693            0.554622   \n",
       "1  {'C': 0.0001}                8           0.544693            0.554622   \n",
       "2   {'C': 0.001}                8           0.544693            0.554622   \n",
       "3    {'C': 0.01}                8           0.544693            0.554622   \n",
       "4     {'C': 0.1}                7           0.958101            0.960784   \n",
       "\n",
       "   split1_test_score       ...         split2_test_score  split2_train_score  \\\n",
       "0           0.579832       ...                  0.571429            0.547936   \n",
       "1           0.579832       ...                  0.571429            0.547936   \n",
       "2           0.579832       ...                  0.571429            0.547936   \n",
       "3           0.579832       ...                  0.571429            0.547936   \n",
       "4           0.949580       ...                  0.957983            0.960812   \n",
       "\n",
       "   split3_test_score  split3_train_score  split4_test_score  \\\n",
       "0           0.501401            0.565430           0.565826   \n",
       "1           0.501401            0.565430           0.565826   \n",
       "2           0.501401            0.565430           0.565826   \n",
       "3           0.501401            0.565430           0.565826   \n",
       "4           0.935574            0.961512           0.949580   \n",
       "\n",
       "   split4_train_score  std_fit_time  std_score_time  std_test_score  \\\n",
       "0            0.549335      0.112911        0.029222        0.028117   \n",
       "1            0.549335      0.026827        0.021861        0.028117   \n",
       "2            0.549335      0.018705        0.007099        0.028117   \n",
       "3            0.549335      0.043327        0.008792        0.028117   \n",
       "4            0.967810      0.036324        0.017626        0.008218   \n",
       "\n",
       "   std_train_score  \n",
       "0         0.007027  \n",
       "1         0.007027  \n",
       "2         0.007027  \n",
       "3         0.007027  \n",
       "4         0.004109  \n",
       "\n",
       "[5 rows x 21 columns]"
      ]
     },
     "execution_count": 10,
     "metadata": {},
     "output_type": "execute_result"
    },
    {
     "data": {
      "text/plain": [
       "100000.0"
      ]
     },
     "execution_count": 10,
     "metadata": {},
     "output_type": "execute_result"
    }
   ],
   "source": [
    "df = pd.DataFrame.from_dict(gs.cv_results_)\n",
    "df.head()\n",
    "df_with_best_score = df[df['mean_test_score'] == (df['mean_test_score'].max())]\n",
    "best_C = df_with_best_score['param_C'].max()\n",
    "best_C"
   ]
  },
  {
   "cell_type": "markdown",
   "metadata": {},
   "source": [
    "# 7. Обучите SVM по всей выборке с оптимальным параметром C, найденным на предыдущем шаге."
   ]
  },
  {
   "cell_type": "code",
   "execution_count": 8,
   "metadata": {
    "collapsed": false
   },
   "outputs": [
    {
     "data": {
      "text/plain": [
       "SVC(C=100000.0, cache_size=200, class_weight=None, coef0=0.0,\n",
       "  decision_function_shape=None, degree=3, gamma='auto', kernel='linear',\n",
       "  max_iter=-1, probability=False, random_state=241, shrinking=True,\n",
       "  tol=0.001, verbose=False)"
      ]
     },
     "execution_count": 8,
     "metadata": {},
     "output_type": "execute_result"
    }
   ],
   "source": [
    "clf.set_params(C = best_C).fit(X_train, y)"
   ]
  },
  {
   "cell_type": "markdown",
   "metadata": {},
   "source": [
    "# 8. Найдите 10 слов с наибольшим абсолютным значением веса (веса хранятся в поле coef_ у svm.SVC). Они являются ответом на это задание. Укажите эти слова через запятую или пробел, в нижнем регистре, в лексикографическом порядке."
   ]
  },
  {
   "cell_type": "code",
   "execution_count": 9,
   "metadata": {
    "collapsed": false
   },
   "outputs": [
    {
     "name": "stdout",
     "output_type": "stream",
     "text": [
      "atheism atheists bible god keith moon nick religion sky space\n"
     ]
    }
   ],
   "source": [
    "absolute_data = abs(clf.coef_.toarray().reshape(-1)) # by absolute\n",
    "\n",
    "absolute_data_sorted_desc = sorted(absolute_data, reverse=True)\n",
    "weight_indexes = []\n",
    "for weight in absolute_data_sorted_desc[:10]:\n",
    "    weight_indexes.append(absolute_data.tolist().index(weight))   \n",
    "        \n",
    "words = [vectorizer.get_feature_names()[index] for index in weight_indexes]\n",
    "\n",
    "print('%s' % (\" \".join(sorted(words))))"
   ]
  }
 ],
 "metadata": {
  "kernelspec": {
   "display_name": "Python 3",
   "language": "python",
   "name": "python3"
  },
  "language_info": {
   "codemirror_mode": {
    "name": "ipython",
    "version": 3
   },
   "file_extension": ".py",
   "mimetype": "text/x-python",
   "name": "python",
   "nbconvert_exporter": "python",
   "pygments_lexer": "ipython3",
   "version": "3.6.0"
  }
 },
 "nbformat": 4,
 "nbformat_minor": 0
}
